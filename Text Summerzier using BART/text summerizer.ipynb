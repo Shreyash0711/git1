{
  "nbformat": 4,
  "nbformat_minor": 0,
  "metadata": {
    "colab": {
      "provenance": [],
      "gpuType": "T4"
    },
    "kernelspec": {
      "name": "python3",
      "display_name": "Python 3"
    },
    "language_info": {
      "name": "python"
    },
    "accelerator": "GPU"
  },
  "cells": [
    {
      "cell_type": "code",
      "execution_count": 1,
      "metadata": {
        "colab": {
          "base_uri": "https://localhost:8080/"
        },
        "id": "OYCvF5cpW856",
        "outputId": "ab3a5173-8521-4986-f4fd-e3b88160aeb3"
      },
      "outputs": [
        {
          "output_type": "stream",
          "name": "stdout",
          "text": [
            "  Preparing metadata (setup.py) ... \u001b[?25l\u001b[?25hdone\n",
            "  Building wheel for rouge-score (setup.py) ... \u001b[?25l\u001b[?25hdone\n"
          ]
        },
        {
          "output_type": "stream",
          "name": "stderr",
          "text": [
            "[nltk_data] Downloading package punkt to /root/nltk_data...\n",
            "[nltk_data]   Unzipping tokenizers/punkt.zip.\n",
            "[nltk_data] Downloading package punkt_tab to /root/nltk_data...\n",
            "[nltk_data]   Unzipping tokenizers/punkt_tab.zip.\n"
          ]
        },
        {
          "output_type": "execute_result",
          "data": {
            "text/plain": [
              "True"
            ]
          },
          "metadata": {},
          "execution_count": 1
        }
      ],
      "source": [
        "!pip install transformers rouge-score datasets nltk --quiet\n",
        "\n",
        "import nltk\n",
        "nltk.download('punkt')\n",
        "nltk.download('punkt_tab')"
      ]
    },
    {
      "cell_type": "code",
      "source": [
        "import kagglehub\n",
        "import shutil\n",
        "import os\n",
        "\n",
        "# Download to default location\n",
        "original_path = kagglehub.dataset_download(\"gowrishankarp/newspaper-text-summarization-cnn-dailymail\")\n",
        "\n",
        "# Copy to /content/\n",
        "target_path = \"/content/data\"\n",
        "if not os.path.exists(target_path):\n",
        "    shutil.copytree(original_path, target_path)\n",
        "\n",
        "print(\"✅ Dataset is now available at:\", target_path)\n"
      ],
      "metadata": {
        "colab": {
          "base_uri": "https://localhost:8080/"
        },
        "id": "UoAJplV3XKYw",
        "outputId": "8bcbd54f-e1b2-465b-f9ef-977af1587da3"
      },
      "execution_count": 3,
      "outputs": [
        {
          "output_type": "stream",
          "name": "stdout",
          "text": [
            "✅ Dataset is now available at: /content/data\n"
          ]
        }
      ]
    },
    {
      "cell_type": "code",
      "source": [
        "import pandas as pd\n",
        "import re\n",
        "from transformers import BartTokenizer, BartForConditionalGeneration\n",
        "from rouge_score import rouge_scorer\n",
        "\n",
        "# Text cleaner\n",
        "def clean_text(text):\n",
        "    text = str(text).lower()\n",
        "    text = re.sub(r'\\s+', ' ', text)\n",
        "    text = re.sub(r'\\[.*?\\]', '', text)\n",
        "    text = re.sub(r'[^a-zA-Z0-9.,!?\\'\\s]', '', text)\n",
        "    return text.strip()\n",
        "\n",
        "# BART Summarizer\n",
        "tokenizer = BartTokenizer.from_pretrained(\"facebook/bart-large-cnn\")\n",
        "model = BartForConditionalGeneration.from_pretrained(\"facebook/bart-large-cnn\")\n",
        "\n",
        "def bart_summarize(text, max_length=60, min_length=20):\n",
        "    inputs = tokenizer([text], max_length=1024, return_tensors='pt', truncation=True)\n",
        "    summary_ids = model.generate(inputs['input_ids'], num_beams=4, max_length=max_length, min_length=min_length, early_stopping=True)\n",
        "    return tokenizer.decode(summary_ids[0], skip_special_tokens=True)\n",
        "\n",
        "# ROUGE\n",
        "def compute_rouge(ref, pred):\n",
        "    scorer = rouge_scorer.RougeScorer(['rouge1', 'rouge2', 'rougeL'], use_stemmer=True)\n",
        "    scores = scorer.score(ref, pred)\n",
        "    return {k: round(v.fmeasure, 4) for k, v in scores.items()}\n"
      ],
      "metadata": {
        "id": "ddKXAapHXhso"
      },
      "execution_count": 10,
      "outputs": []
    },
    {
      "cell_type": "code",
      "source": [
        "# Load and sample data\n",
        "train_df = pd.read_csv(f\"{target_path}/cnn_dailymail/train.csv\")[['article', 'highlights']].dropna().sample(2, random_state=1)\n",
        "test_df = pd.read_csv(f\"{target_path}/cnn_dailymail/test.csv\")[['article', 'highlights']].dropna().sample(2, random_state=2)\n",
        "\n",
        "# Clean articles\n",
        "train_df['clean_article'] = train_df['article'].apply(clean_text)\n",
        "test_df['clean_article'] = test_df['article'].apply(clean_text)\n"
      ],
      "metadata": {
        "id": "JSgZgo5hXuY2"
      },
      "execution_count": 11,
      "outputs": []
    },
    {
      "cell_type": "code",
      "source": [
        "def evaluate_and_print(df, label):\n",
        "    print(f\"\\n\\n========== {label.upper()} SET ==========\")\n",
        "    for i, row in df.iterrows():\n",
        "        cleaned = row['clean_article']\n",
        "        reference = row['highlights']\n",
        "        prediction = bart_summarize(cleaned)\n",
        "\n",
        "        print(f\"\\n--- Sample {i+1} ---\")\n",
        "        print(\"📰 Article (truncated):\\n\", cleaned[:400], \"...\\n\")\n",
        "        print(\"✅ Human Summary:\\n\", reference)\n",
        "        print(\"🤖 BART Summary:\\n\", prediction)\n",
        "        print(\"📊 ROUGE:\", compute_rouge(reference, prediction))\n",
        "\n",
        "# Evaluate both sets\n",
        "evaluate_and_print(train_df, \"train\")\n",
        "evaluate_and_print(test_df, \"test\")\n"
      ],
      "metadata": {
        "colab": {
          "base_uri": "https://localhost:8080/"
        },
        "id": "UdHmyP-PYSfS",
        "outputId": "dda1078f-5502-4011-ce74-e1d338aa7e32"
      },
      "execution_count": 12,
      "outputs": [
        {
          "output_type": "stream",
          "name": "stdout",
          "text": [
            "\n",
            "\n",
            "========== TRAIN SET ==========\n",
            "\n",
            "--- Sample 121640 ---\n",
            "📰 Article (truncated):\n",
            " a russian father who fed parrots, guinea pigs, cats and puppies to his pet snake and filmed the gruesome footage is being hunted by police. fatheroftwo andrei generalov, 32, from st. petersburg in northwestern russia, started uploading videos of his boa constrictor 'king' devouring rats and hamsters. but as the videos rose in popularity, he began taking suggestions from viewers who demanded more ' ...\n",
            "\n",
            "✅ Human Summary:\n",
            " Andrei Generalov, 32, uploads videos of his Boa Constrictor eating animals .\n",
            "Feeds his snake called 'King' parrots, guinea pigs, cats and even puppies .\n",
            "Boas have jaws lined with hooked teeth for grabbing and holding prey .\n",
            "They wrap their bodies around their victim, squeezing it until it suffocates .\n",
            "Petition started to take him to court and he is now being hunted by police .\n",
            "🤖 BART Summary:\n",
            "  andrei generalov, 32, from st. petersburg, russia, started uploading videos of his boa constrictor 'king' devouring rats and hamsters. As the videos rose in popularity, he began taking suggestions from viewers who demanded more 'blood and\n",
            "📊 ROUGE: {'rouge1': 0.3061, 'rouge2': 0.1458, 'rougeL': 0.2653}\n",
            "\n",
            "--- Sample 188290 ---\n",
            "📰 Article (truncated):\n",
            " london, england cnn  as the first splinters of sunlight spread their warmth on the south bank of the river thames on thursday, it became clear that after more than a century, the vision of victorian engineer alexander stanhope st. george had finally been realized. the telectroscope lets londoners and new yorkers see each other in real time. in all its optical brilliance and brass and wood, there s ...\n",
            "\n",
            "✅ Human Summary:\n",
            " Telectroscope allows Londoners, New Yorkers to see each other in real time .\n",
            "Giant scope was Victorian age idea, came about when reporter made typo .\n",
            "Artist St. George inspired by childhood notion of digging to other side of Earth .\n",
            "🤖 BART Summary:\n",
            " The telectroscope is an 11.2meter37 feet long by 3.3meter11 feet tall dream of a device allowing people on one side of the atlantic to look into its personsize lens and, in real time, see those on the other side via a\n",
            "📊 ROUGE: {'rouge1': 0.2963, 'rouge2': 0.1013, 'rougeL': 0.1975}\n",
            "\n",
            "\n",
            "========== TEST SET ==========\n",
            "\n",
            "--- Sample 6315 ---\n",
            "📰 Article (truncated):\n",
            " a confident young fox picked the wrong foe to steal his lunch from. the animal is pictured vying for a large deer bone as he crosses a frozen lake in furen in japan. while the fox appears to have some success fending off a flock of crows, when a pair of eagles turn up he soon finds out he has taken on more than he can handle. scroll down for video . a bold red fox spots a deer bone on a frozen lak ...\n",
            "\n",
            "✅ Human Summary:\n",
            " Red fox spots a deer bone among a group of black crows on a frozen lake in Furen in Japan and goes in to take it .\n",
            "But the animal is challenged by two advancing large eagles who surround him as he holds bone in his jaws .\n",
            "As the fox and eagles clash, it becomes clear the young fox is destined to lose the battle against his larger foes .\n",
            "🤖 BART Summary:\n",
            " A bold red fox spots a deer bone on a frozen lake in japan and begins to fight both a flock of crows and an eagle for the tasty lunch. The large birds were photographed by japanese businessman sanin alexander as they swooped down with their claws b\n",
            "📊 ROUGE: {'rouge1': 0.4138, 'rouge2': 0.193, 'rougeL': 0.3103}\n",
            "\n",
            "--- Sample 4236 ---\n",
            "📰 Article (truncated):\n",
            " doctors are putting the health of women and their babies at risk by performing caesarean sections too readily, un officials warn . doctors are putting the health of women and their babies at risk by performing caesarean sections too readily, un officials warn. they say the procedure should only be carried out when medically necessary because it can lead to infections and even death. just over a qu ...\n",
            "\n",
            "✅ Human Summary:\n",
            " UN officials say procedure should only be done when ‘medically necessary'\n",
            "Over a quarter of women in England now have a a caesarean birth .\n",
            "The rate, which includes voluntary mothers, has doubled since early 1990s .\n",
            "🤖 BART Summary:\n",
            " Just over a quarter of women giving birth in england now have a caesarean. The rate has more than doubled since the early 1990s. Experts say this figure should ideally be between just 10 per cent and 15 per cent due to the dangers and costs involved.\n",
            "📊 ROUGE: {'rouge1': 0.5366, 'rouge2': 0.3, 'rougeL': 0.439}\n"
          ]
        }
      ]
    },
    {
      "cell_type": "code",
      "source": [
        "!pip install gradio transformers --quiet\n"
      ],
      "metadata": {
        "id": "u4SjN0BIYk5R"
      },
      "execution_count": 13,
      "outputs": []
    },
    {
      "cell_type": "code",
      "source": [
        "from transformers import BartTokenizer, BartForConditionalGeneration\n",
        "import torch\n",
        "\n",
        "# Load pretrained BART\n",
        "tokenizer = BartTokenizer.from_pretrained(\"facebook/bart-large-cnn\")\n",
        "model = BartForConditionalGeneration.from_pretrained(\"facebook/bart-large-cnn\")\n",
        "\n",
        "# Summarization function\n",
        "def bart_summarize(text, max_length=60, min_length=20):\n",
        "    inputs = tokenizer([text], max_length=1024, return_tensors='pt', truncation=True)\n",
        "    summary_ids = model.generate(inputs['input_ids'], num_beams=4, max_length=max_length, min_length=min_length, early_stopping=True)\n",
        "    return tokenizer.decode(summary_ids[0], skip_special_tokens=True)\n"
      ],
      "metadata": {
        "id": "F8TG41g3Z7-o"
      },
      "execution_count": 14,
      "outputs": []
    },
    {
      "cell_type": "code",
      "source": [
        "import gradio as gr\n",
        "\n",
        "# Gradio Interface\n",
        "interface = gr.Interface(\n",
        "    fn=bart_summarize,\n",
        "    inputs=gr.Textbox(lines=15, label=\"Enter Article\"),\n",
        "    outputs=gr.Textbox(lines=6, label=\"BART Summary\"),\n",
        "    title=\"📰 Text Summarizer with BART\",\n",
        "    description=\"Paste a news article or paragraph. The model will return a concise summary using Facebook's BART-Large-CNN.\"\n",
        ")\n",
        "\n",
        "# Launch\n",
        "interface.launch()\n"
      ],
      "metadata": {
        "colab": {
          "base_uri": "https://localhost:8080/",
          "height": 648
        },
        "id": "xodmouvgZ-6b",
        "outputId": "e30dff8e-ef3e-43d3-d392-32139051d82c"
      },
      "execution_count": 15,
      "outputs": [
        {
          "output_type": "stream",
          "name": "stdout",
          "text": [
            "It looks like you are running Gradio on a hosted a Jupyter notebook. For the Gradio app to work, sharing must be enabled. Automatically setting `share=True` (you can turn this off by setting `share=False` in `launch()` explicitly).\n",
            "\n",
            "Colab notebook detected. To show errors in colab notebook, set debug=True in launch()\n",
            "* Running on public URL: https://10ef7f6dd04e10994d.gradio.live\n",
            "\n",
            "This share link expires in 1 week. For free permanent hosting and GPU upgrades, run `gradio deploy` from the terminal in the working directory to deploy to Hugging Face Spaces (https://huggingface.co/spaces)\n"
          ]
        },
        {
          "output_type": "display_data",
          "data": {
            "text/plain": [
              "<IPython.core.display.HTML object>"
            ],
            "text/html": [
              "<div><iframe src=\"https://10ef7f6dd04e10994d.gradio.live\" width=\"100%\" height=\"500\" allow=\"autoplay; camera; microphone; clipboard-read; clipboard-write;\" frameborder=\"0\" allowfullscreen></iframe></div>"
            ]
          },
          "metadata": {}
        },
        {
          "output_type": "execute_result",
          "data": {
            "text/plain": []
          },
          "metadata": {},
          "execution_count": 15
        }
      ]
    },
    {
      "cell_type": "code",
      "source": [],
      "metadata": {
        "id": "-D3DBhSFaBDJ"
      },
      "execution_count": null,
      "outputs": []
    }
  ]
}